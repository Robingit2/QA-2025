{
 "cells": [
  {
   "cell_type": "code",
   "execution_count": 9,
   "id": "53791b8b-9748-46b5-9a69-6856095239e4",
   "metadata": {},
   "outputs": [
    {
     "name": "stdout",
     "output_type": "stream",
     "text": [
      "Defaulting to user installation because normal site-packages is not writeable\n",
      "Requirement already satisfied: selenium in c:\\users\\robin\\appdata\\roaming\\python\\python312\\site-packages (4.32.0)\n",
      "Requirement already satisfied: urllib3<3,>=1.26 in c:\\programdata\\anaconda3\\lib\\site-packages (from urllib3[socks]<3,>=1.26->selenium) (2.2.3)\n",
      "Requirement already satisfied: trio~=0.17 in c:\\users\\robin\\appdata\\roaming\\python\\python312\\site-packages (from selenium) (0.30.0)\n",
      "Requirement already satisfied: trio-websocket~=0.9 in c:\\users\\robin\\appdata\\roaming\\python\\python312\\site-packages (from selenium) (0.12.2)\n",
      "Requirement already satisfied: certifi>=2021.10.8 in c:\\programdata\\anaconda3\\lib\\site-packages (from selenium) (2024.8.30)\n",
      "Requirement already satisfied: typing_extensions~=4.9 in c:\\programdata\\anaconda3\\lib\\site-packages (from selenium) (4.11.0)\n",
      "Requirement already satisfied: websocket-client~=1.8 in c:\\programdata\\anaconda3\\lib\\site-packages (from selenium) (1.8.0)\n",
      "Requirement already satisfied: attrs>=23.2.0 in c:\\users\\robin\\appdata\\roaming\\python\\python312\\site-packages (from trio~=0.17->selenium) (25.3.0)\n",
      "Requirement already satisfied: sortedcontainers in c:\\programdata\\anaconda3\\lib\\site-packages (from trio~=0.17->selenium) (2.4.0)\n",
      "Requirement already satisfied: idna in c:\\programdata\\anaconda3\\lib\\site-packages (from trio~=0.17->selenium) (3.7)\n",
      "Requirement already satisfied: outcome in c:\\users\\robin\\appdata\\roaming\\python\\python312\\site-packages (from trio~=0.17->selenium) (1.3.0.post0)\n",
      "Requirement already satisfied: sniffio>=1.3.0 in c:\\programdata\\anaconda3\\lib\\site-packages (from trio~=0.17->selenium) (1.3.0)\n",
      "Requirement already satisfied: cffi>=1.14 in c:\\programdata\\anaconda3\\lib\\site-packages (from trio~=0.17->selenium) (1.17.1)\n",
      "Requirement already satisfied: wsproto>=0.14 in c:\\users\\robin\\appdata\\roaming\\python\\python312\\site-packages (from trio-websocket~=0.9->selenium) (1.2.0)\n",
      "Requirement already satisfied: pysocks!=1.5.7,<2.0,>=1.5.6 in c:\\programdata\\anaconda3\\lib\\site-packages (from urllib3[socks]<3,>=1.26->selenium) (1.7.1)\n",
      "Requirement already satisfied: pycparser in c:\\programdata\\anaconda3\\lib\\site-packages (from cffi>=1.14->trio~=0.17->selenium) (2.21)\n",
      "Requirement already satisfied: h11<1,>=0.9.0 in c:\\programdata\\anaconda3\\lib\\site-packages (from wsproto>=0.14->trio-websocket~=0.9->selenium) (0.14.0)\n",
      "Note: you may need to restart the kernel to use updated packages.\n"
     ]
    }
   ],
   "source": [
    "pip install selenium"
   ]
  },
  {
   "cell_type": "code",
   "execution_count": 10,
   "id": "e09bf91c-d747-4b62-a623-b77d907edb8e",
   "metadata": {},
   "outputs": [],
   "source": [
    "from selenium import webdriver\n",
    "from selenium.webdriver.chrome.service import Service as ChromeService\n",
    "#from webdriver_manager.chrome import ChromeDriverManager\n",
    "from selenium.webdriver.chrome.options import Options"
   ]
  },
  {
   "cell_type": "markdown",
   "id": "c00f08df-c491-465a-ab97-bac73729a5c9",
   "metadata": {},
   "source": [
    "<h3>For Edge</h3>"
   ]
  },
  {
   "cell_type": "code",
   "execution_count": 9,
   "id": "00de8980-1334-4de2-97d1-98386435715f",
   "metadata": {},
   "outputs": [
    {
     "name": "stdout",
     "output_type": "stream",
     "text": [
      "5. Data Structures — Python 3.13.3 documentation\n",
      "chrome title: 5. Data Structures — Python 3.13.3 documentation\n",
      "edge title: 5. Data Structures — Python 3.13.3 documentation\n"
     ]
    }
   ],
   "source": [
    "driver_option = Options()\n",
    "driver_option.add_argument('--incognito')\n",
    "\n",
    "def create_webdriver():\n",
    "    service = ChromeService(ChromeDriverManager().install())\n",
    "    driver = webdriver.Chrome(service=service, options=driver_option)\n",
    "    return driver\n",
    "    \n",
    "browser = create_webdriver()\n",
    "browser.get('https://docs.python.org/3/tutorial/datastructures.html#using-lists-as-queues')\n",
    "\n",
    "title = browser.title\n",
    "print(title)\n",
    "#from selenium.webdriver.edge.service import Service as EdgeService\n",
    "#from webdriver_manager.microsoft import EdgeChromiumDriverManager\n",
    "#driver = webdriver.Edge(service = EdgeService(EdgeChromiumDriverManager().install())\n",
    "\n",
    "#for new Selenium New Version\n",
    "driver = webdriver.Edge()\n",
    "driver.get('https://docs.python.org/3/tutorial/datastructures.html#using-lists-as-queues')\n",
    "print(driver.title)\n",
    "\n",
    "\n",
    "\n",
    "names = ['chrome', 'edge']\n",
    "for name in names:\n",
    "    if name == 'chrome':\n",
    "        driver = webdriver.Chrome()  \n",
    "    elif name == 'edge':\n",
    "        driver = webdriver.Edge()   \n",
    "    else:\n",
    "        print(f\"{name} not supported\")\n",
    "        continue\n",
    "\n",
    "    driver.get(\"https://docs.python.org/3/tutorial/datastructures.html#using-lists-as-queues\")\n",
    "    print(f\"{name} title:\", driver.title)\n",
    "driver.quit()"
   ]
  },
  {
   "cell_type": "markdown",
   "id": "86e0abe2-7a5b-40f0-ba2b-aa003765f5b5",
   "metadata": {},
   "source": [
    "<h2>Scrolling</h2>"
   ]
  },
  {
   "cell_type": "code",
   "execution_count": null,
   "id": "f450518f-9254-47b3-839f-b18887b804fc",
   "metadata": {},
   "outputs": [],
   "source": [
    "import time\n",
    "driver = webdriver.Edge()\n",
    "driver.get('https://docs.python.org/3/tutorial/datastructures.html#using-lists-as-queues')\n",
    "driver.maximize_window()\n",
    "# driver.execute_script(\"window.scrollBy(0,500);\")# x axis and pixel\n",
    "page_height = driver.execute_script(\"return document.body.scrollHeight\") # it is in pixel\n",
    "scroll_speed = 1000 # it is in integer\n",
    "scroll_iteration = int(page_height/scroll_speed)\n",
    "for i in range(scroll_iteration):\n",
    "    driver.execute_script(\"window.scrollBy(0,300);\")\n",
    "    time.sleep(1)\n",
    "driver.quit()"
   ]
  },
  {
   "cell_type": "code",
   "execution_count": 2,
   "id": "36245d40-65d0-41f5-a42d-849a48dc86d3",
   "metadata": {},
   "outputs": [
    {
     "ename": "NameError",
     "evalue": "name 'driver' is not defined",
     "output_type": "error",
     "traceback": [
      "\u001b[31m---------------------------------------------------------------------------\u001b[39m",
      "\u001b[31mNameError\u001b[39m                                 Traceback (most recent call last)",
      "\u001b[36mCell\u001b[39m\u001b[36m \u001b[39m\u001b[32mIn[2]\u001b[39m\u001b[32m, line 6\u001b[39m\n\u001b[32m      3\u001b[39m found = \u001b[38;5;28;01mFalse\u001b[39;00m\n\u001b[32m      5\u001b[39m \u001b[38;5;28;01mfor\u001b[39;00m _ \u001b[38;5;129;01min\u001b[39;00m \u001b[38;5;28mrange\u001b[39m(scroll_attempts):\n\u001b[32m----> \u001b[39m\u001b[32m6\u001b[39m     element = \u001b[43mdriver\u001b[49m.find_element(By.CSS_SELECTOR, target_selector)\n\u001b[32m      7\u001b[39m     found = \u001b[38;5;28;01mTrue\u001b[39;00m\n\u001b[32m      8\u001b[39m     \u001b[38;5;28;01mbreak\u001b[39;00m\n",
      "\u001b[31mNameError\u001b[39m: name 'driver' is not defined"
     ]
    }
   ],
   "source": [
    "target_selector = \"div.target-class\"  # Change this to your actual target element selector\n",
    "scroll_attempts = 30  # Max number of scrolls\n",
    "found = False\n",
    "\n",
    "for _ in range(scroll_attempts):\n",
    "    element = driver.find_element(By.CSS_SELECTOR, target_selector)\n",
    "    found = True\n",
    "    break\n",
    "if found:\n",
    "    driver.execute_script(\"arguments[0].scrollIntoView();\", element)"
   ]
  },
  {
   "cell_type": "markdown",
   "id": "f1ec393d-211c-4998-9cbf-2da4c5d056d2",
   "metadata": {},
   "source": [
    "<h1>Button CLick</h1>"
   ]
  },
  {
   "cell_type": "code",
   "execution_count": 16,
   "id": "236720a6-70ce-49cc-ac7f-881bfdf90501",
   "metadata": {},
   "outputs": [
    {
     "name": "stdout",
     "output_type": "stream",
     "text": [
      "Current Url https://www.saucedemo.com/inventory.html\n"
     ]
    }
   ],
   "source": [
    "from selenium.webdriver.common.by import By\n",
    "import time\n",
    "driver = webdriver.Edge()\n",
    "driver.get('https://www.saucedemo.com/')\n",
    "driver.maximize_window()\n",
    "time.sleep(2)\n",
    "\n",
    "username_field = driver.find_element(By.ID ,'user-name') # using xpath By.XPATH ,'//*[@id  = \"user-name\"]'\n",
    "password_fields = driver.find_element(By.ID,'password')\n",
    "login_button = driver.find_element(By.ID,'login-button')\n",
    "username_field.send_keys('standard_user')\n",
    "time.sleep(2)\n",
    "password_fields.send_keys('secret_sauce')\n",
    "login_button.click()\n",
    "time.sleep(3)\n",
    "\n",
    "current_url = driver.current_url\n",
    "print(\"Current Url\",current_url)\n",
    "driver.quit()"
   ]
  },
  {
   "cell_type": "markdown",
   "id": "1e277112-a2e5-43a9-b4c1-fec79c1680b8",
   "metadata": {},
   "source": [
    "<h2>File Upload</h2>"
   ]
  },
  {
   "cell_type": "code",
   "execution_count": 2,
   "id": "71c3bf27-ad3a-4d51-a85a-7b821f1752cd",
   "metadata": {},
   "outputs": [],
   "source": [
    "from selenium import webdriver\n",
    "from selenium.webdriver.common.by import By\n",
    "import time\n",
    "driver = webdriver.Edge()\n",
    "driver.get('https://filebin.net/')\n",
    "driver.maximize_window()\n",
    "time.sleep(2)\n",
    "\n",
    "file_field = driver.find_element(By.CLASS_NAME ,'upload') \n",
    "file_field.send_keys(\"C:/Users/Robin/Pictures/foreground3.png\")\n",
    "time.sleep(5)\n",
    "\n",
    "more = driver.find_element(By.ID ,'dropdownFileMenuButton')\n",
    "more.click()\n",
    "download = driver.find_element(By.XPATH,'/html/body/table/tbody/tr/td[5]/div/div/a[1]')\n",
    "download.click()\n",
    "\n",
    "proceed = driver.find_element(By.XPATH,'/html/body/div[3]/p/a[2]')\n",
    "proceed.click()\n",
    "time.sleep(4)"
   ]
  },
  {
   "cell_type": "code",
   "execution_count": 12,
   "id": "0aa8bdd7-37ad-4aa0-9d24-e869eb99a4de",
   "metadata": {},
   "outputs": [],
   "source": [
    "import random\n",
    "import string\n",
    "import time\n",
    "driver = webdriver.Edge()\n",
    "driver.get('https://www.mindrisers.com.np/contact-us')\n",
    "driver.maximize_window()\n",
    "time.sleep(2)\n",
    "\n",
    "name = ''.join(random.choices(string.ascii_letters, k=8))\n",
    "phone = \"+97-98\"+ ''.join(random.choice(string.digits) for _ in range(8))\n",
    "email = ''.join(random.choices(string.ascii_lowercase , k=4)) + \"@gamil.com\"\n",
    "\n",
    "name_field = driver.find_element(By.XPATH, \"//input[@placeholder='Name']\")\n",
    "name_field.clear()\n",
    "email_field = driver.find_element(By.XPATH,\"//input[@placeholder='Email']\")\n",
    "email_field.clear()\n",
    "phone_field = driver.find_element(By.XPATH,\"//input[@placeholder='Phone']\")\n",
    "phone_field.clear()\n",
    "\n",
    "\n",
    "name_field.send_keys(name)\n",
    "time.sleep(2)\n",
    "email_field.send_keys(email)\n",
    "time.sleep(2)\n",
    "phone_field.send_keys(phone)\n",
    "time.sleep(2)\n",
    "\n",
    "driver.quit()"
   ]
  },
  {
   "cell_type": "markdown",
   "id": "2dd1ff0c-e701-4419-b4fa-8c630f54c7da",
   "metadata": {},
   "source": [
    "<h2>Simple Api Testing</h2>"
   ]
  },
  {
   "cell_type": "code",
   "execution_count": 2,
   "id": "f25003e7-884b-48b0-a01b-be01c5de89d2",
   "metadata": {},
   "outputs": [
    {
     "name": "stdout",
     "output_type": "stream",
     "text": [
      "Failed to get data. Status code: 401\n",
      "null\n"
     ]
    }
   ],
   "source": [
    "import requests\n",
    "import json\n",
    "\n",
    "base_url = 'https://reqres.in/'\n",
    "def get_api():\n",
    "    url = base_url + \"api/users?page=3\"\n",
    "    response = requests.get(url)\n",
    "    #assert response.status_code == 200    #throw error if status code doesnot match\n",
    "    if response.status_code == 200:\n",
    "        data = response.json()\n",
    "        return data\n",
    "    else:\n",
    "        print(f\"Failed to get data. Status code: {response.status_code}\")\n",
    "        return None\n",
    "\n",
    "\n",
    "result = get_api()\n",
    "print(json.dumps(result, indent=4))"
   ]
  },
  {
   "cell_type": "code",
   "execution_count": 3,
   "id": "59233f7f-8224-49b1-b356-d642e99a91d5",
   "metadata": {},
   "outputs": [
    {
     "name": "stdout",
     "output_type": "stream",
     "text": [
      "{\n",
      "    \"data\": {\n",
      "        \"id\": 2,\n",
      "        \"email\": \"janet.weaver@reqres.in\",\n",
      "        \"first_name\": \"Janet\",\n",
      "        \"last_name\": \"Weaver\",\n",
      "        \"avatar\": \"https://reqres.in/img/faces/2-image.jpg\"\n",
      "    },\n",
      "    \"support\": {\n",
      "        \"url\": \"https://contentcaddy.io?utm_source=reqres&utm_medium=json&utm_campaign=referral\",\n",
      "        \"text\": \"Tired of writing endless social media content? Let Content Caddy generate it for you.\"\n",
      "    }\n",
      "}\n"
     ]
    }
   ],
   "source": [
    "def get_singleUser():\n",
    "    url = base_url + \"api/users/2\"\n",
    "    response = requests.get(url)\n",
    "    #assert response.status_code == 200\n",
    "    \n",
    "    if response.status_code == 200:\n",
    "        data = response.json()\n",
    "        return data\n",
    "    else:\n",
    "        print(f\"Failed to get data. Status code: {response.status_code}\")\n",
    "        return None\n",
    "result = get_singleUser()\n",
    "print(json.dumps(result, indent=4))\n",
    "    "
   ]
  },
  {
   "cell_type": "code",
   "execution_count": 4,
   "id": "e298102d-122f-4ecb-8724-eea11dca1d63",
   "metadata": {},
   "outputs": [
    {
     "name": "stdout",
     "output_type": "stream",
     "text": [
      "{'name': 'morpheus', 'job': 'leader', 'id': '183', 'createdAt': '2025-05-14T03:13:09.658Z'}\n"
     ]
    }
   ],
   "source": [
    "def Create_Users():\n",
    "    user_data = {\n",
    "        \"name\": \"morpheus\",\n",
    "        \"job\": \"leader\"\n",
    "    }\n",
    "    headers = {\n",
    "        \"x-api-key\": \"reqres-free-v1\"\n",
    "    }\n",
    "    url = base_url + \"api/users\"\n",
    "    response =  requests.post(url ,user_data ,headers = headers)\n",
    "    return response.json()\n",
    "\n",
    "result = Create_Users()\n",
    "print(result)"
   ]
  },
  {
   "cell_type": "code",
   "execution_count": null,
   "id": "82bb3353-a880-4020-ad97-8dddd7d0662f",
   "metadata": {},
   "outputs": [],
   "source": []
  }
 ],
 "metadata": {
  "kernelspec": {
   "display_name": "Python 3 (ipykernel)",
   "language": "python",
   "name": "python3"
  },
  "language_info": {
   "codemirror_mode": {
    "name": "ipython",
    "version": 3
   },
   "file_extension": ".py",
   "mimetype": "text/x-python",
   "name": "python",
   "nbconvert_exporter": "python",
   "pygments_lexer": "ipython3",
   "version": "3.12.7"
  }
 },
 "nbformat": 4,
 "nbformat_minor": 5
}
